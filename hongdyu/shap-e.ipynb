{
 "cells": [
  {
   "metadata": {
    "jupyter": {
     "is_executing": true
    }
   },
   "cell_type": "code",
   "source": [
    "#ip: 168.188.128.36\n",
    "#port: 20370:22, 20371:8888\n",
    "#putty의 설정 source port:8888 Destination : localhost:8888 저장\n",
    "#jupyter notebook --no-browser --allow-root\n",
    "#나오는 토큰 설정의 구성된 서버에 입력\n"
   ],
   "id": "5dab0e9363992f32",
   "outputs": [],
   "execution_count": null
  },
  {
   "metadata": {
    "ExecuteTime": {
     "end_time": "2025-05-08T14:12:07.113198Z",
     "start_time": "2025-05-08T14:12:04.178304Z"
    }
   },
   "cell_type": "code",
   "source": [
    "import torch\n",
    "\n",
    "from shap_e.diffusion.sample import sample_latents\n",
    "from shap_e.diffusion.gaussian_diffusion import diffusion_from_config\n",
    "from shap_e.models.download import load_model, load_config\n",
    "from shap_e.util.notebooks import create_pan_cameras, decode_latent_images, gif_widget\n",
    "from shap_e.util.notebooks import decode_latent_mesh"
   ],
   "id": "e7f144c9d77381c8",
   "outputs": [],
   "execution_count": 1
  },
  {
   "metadata": {
    "ExecuteTime": {
     "end_time": "2025-05-08T14:12:10.886876Z",
     "start_time": "2025-05-08T14:12:10.653448Z"
    }
   },
   "cell_type": "code",
   "source": [
    "if torch.cuda.is_available():\n",
    "    print(\"GPU 사용 가능\")\n",
    "    print(\"GPU 이름:\", torch.cuda.get_device_name(0))\n",
    "    print(\"현재 디바이스:\", torch.cuda.current_device())\n",
    "else:\n",
    "    print(\"GPU 사용 불가\")\n"
   ],
   "id": "6366221aad50f893",
   "outputs": [
    {
     "name": "stdout",
     "output_type": "stream",
     "text": [
      "GPU 사용 가능\n",
      "GPU 이름: Tesla P100-PCIE-16GB\n",
      "현재 디바이스: 0\n"
     ]
    }
   ],
   "execution_count": 2
  },
  {
   "metadata": {
    "ExecuteTime": {
     "end_time": "2025-05-08T14:12:17.338550Z",
     "start_time": "2025-05-08T14:12:17.333763Z"
    }
   },
   "cell_type": "code",
   "source": [
    "#nvidia-smi gpu 상태 확인\n",
    "device = torch.device('cuda:6' if torch.cuda.is_available() else 'cpu')"
   ],
   "id": "c880eb682286a09b",
   "outputs": [],
   "execution_count": 3
  },
  {
   "metadata": {
    "ExecuteTime": {
     "end_time": "2025-05-08T14:12:21.829503Z",
     "start_time": "2025-05-08T14:12:21.172656Z"
    }
   },
   "cell_type": "code",
   "source": [
    "!nvidia-smi\n",
    "!rm -rf /root/hongdyu/hongdyu/shap_e_model_cache/text_cond.pt"
   ],
   "id": "28c8e1ad969097d7",
   "outputs": [
    {
     "name": "stdout",
     "output_type": "stream",
     "text": [
      "Thu May  8 14:12:21 2025       \r\n",
      "+---------------------------------------------------------------------------------------+\r\n",
      "| NVIDIA-SMI 535.183.01             Driver Version: 535.183.01   CUDA Version: 12.2     |\r\n",
      "|-----------------------------------------+----------------------+----------------------+\r\n",
      "| GPU  Name                 Persistence-M | Bus-Id        Disp.A | Volatile Uncorr. ECC |\r\n",
      "| Fan  Temp   Perf          Pwr:Usage/Cap |         Memory-Usage | GPU-Util  Compute M. |\r\n",
      "|                                         |                      |               MIG M. |\r\n",
      "|=========================================+======================+======================|\r\n",
      "|   0  Tesla P100-PCIE-16GB           Off | 00000000:04:00.0 Off |                    0 |\r\n",
      "| N/A   68C    P0             201W / 250W |  11810MiB / 16384MiB |    100%      Default |\r\n",
      "|                                         |                      |                  N/A |\r\n",
      "+-----------------------------------------+----------------------+----------------------+\r\n",
      "|   1  Tesla P100-PCIE-16GB           Off | 00000000:06:00.0 Off |                    0 |\r\n",
      "| N/A   41C    P0              37W / 250W |  14026MiB / 16384MiB |     24%      Default |\r\n",
      "|                                         |                      |                  N/A |\r\n",
      "+-----------------------------------------+----------------------+----------------------+\r\n",
      "|   2  Tesla P100-PCIE-16GB           Off | 00000000:07:00.0 Off |                    0 |\r\n",
      "| N/A   47C    P0              40W / 250W |   4592MiB / 16384MiB |     41%      Default |\r\n",
      "|                                         |                      |                  N/A |\r\n",
      "+-----------------------------------------+----------------------+----------------------+\r\n",
      "|   3  Tesla P100-PCIE-16GB           Off | 00000000:08:00.0 Off |                    0 |\r\n",
      "| N/A   49C    P0              95W / 250W |   8026MiB / 16384MiB |     86%      Default |\r\n",
      "|                                         |                      |                  N/A |\r\n",
      "+-----------------------------------------+----------------------+----------------------+\r\n",
      "|   4  Tesla P100-PCIE-16GB           Off | 00000000:0C:00.0 Off |                    0 |\r\n",
      "| N/A   58C    P0             181W / 250W |  12410MiB / 16384MiB |     74%      Default |\r\n",
      "|                                         |                      |                  N/A |\r\n",
      "+-----------------------------------------+----------------------+----------------------+\r\n",
      "|   5  Tesla P100-PCIE-16GB           Off | 00000000:0D:00.0 Off |                    0 |\r\n",
      "| N/A   43C    P0              39W / 250W |   4592MiB / 16384MiB |      0%      Default |\r\n",
      "|                                         |                      |                  N/A |\r\n",
      "+-----------------------------------------+----------------------+----------------------+\r\n",
      "|   6  Tesla P100-PCIE-16GB           Off | 00000000:0E:00.0 Off |                    0 |\r\n",
      "| N/A   41C    P0              38W / 250W |   4592MiB / 16384MiB |      0%      Default |\r\n",
      "|                                         |                      |                  N/A |\r\n",
      "+-----------------------------------------+----------------------+----------------------+\r\n",
      "|   7  Tesla P100-PCIE-16GB           Off | 00000000:0F:00.0 Off |                    0 |\r\n",
      "| N/A   37C    P0              31W / 250W |   4096MiB / 16384MiB |      0%      Default |\r\n",
      "|                                         |                      |                  N/A |\r\n",
      "+-----------------------------------------+----------------------+----------------------+\r\n",
      "                                                                                         \r\n",
      "+---------------------------------------------------------------------------------------+\r\n",
      "| Processes:                                                                            |\r\n",
      "|  GPU   GI   CI        PID   Type   Process name                            GPU Memory |\r\n",
      "|        ID   ID                                                             Usage      |\r\n",
      "|=======================================================================================|\r\n",
      "+---------------------------------------------------------------------------------------+\r\n"
     ]
    }
   ],
   "execution_count": 4
  },
  {
   "metadata": {
    "ExecuteTime": {
     "end_time": "2025-05-08T14:13:10.725216Z",
     "start_time": "2025-05-08T14:12:36.603138Z"
    }
   },
   "cell_type": "code",
   "source": [
    "xm = load_model('transmitter', device=device)\n",
    "shap_e_model = load_model('text300M', device=device)\n",
    "diffusion = diffusion_from_config(load_config('diffusion'))"
   ],
   "id": "24e9b109e0019d2",
   "outputs": [],
   "execution_count": 5
  },
  {
   "metadata": {
    "ExecuteTime": {
     "end_time": "2025-05-08T14:14:09.972010Z",
     "start_time": "2025-05-08T14:13:55.810040Z"
    }
   },
   "cell_type": "code",
   "source": "import hongdyu_gpt",
   "id": "b049fa495a606d03",
   "outputs": [
    {
     "data": {
      "text/plain": [
       "<Figure size 1000x1000 with 1 Axes>"
      ],
      "image/png": "[encoded data removed]"
     },
     "metadata": {},
     "output_type": "display_data"
    }
   ],
   "execution_count": 6
  },
  {
   "metadata": {
    "ExecuteTime": {
     "end_time": "2025-05-08T14:30:23.443086Z",
     "start_time": "2025-05-08T14:14:19.299279Z"
    }
   },
   "cell_type": "code",
   "source": [
    "for i in range(len(hongdyu_gpt.object_names)):\n",
    "    name = hongdyu_gpt.object_names[i]\n",
    "    print(name)\n",
    "    batch_size = 1\n",
    "    guidance_scale = 15.0\n",
    "    prompt = hongdyu_gpt.object_names[i]\n",
    "    latents = sample_latents(\n",
    "      batch_size=batch_size,\n",
    "      model=shap_e_model,\n",
    "      diffusion=diffusion,\n",
    "      guidance_scale=guidance_scale,\n",
    "      model_kwargs=dict(texts=[prompt] * batch_size),\n",
    "      progress=True,\n",
    "      clip_denoised=True,\n",
    "      use_fp16=True,\n",
    "      use_karras=True,\n",
    "      karras_steps=64,\n",
    "      sigma_min=1e-3,\n",
    "      sigma_max=160,\n",
    "      s_churn=0,\n",
    "    )\n",
    "    render_mode = 'nerf' # you can change this to 'stf'\n",
    "    size = 64 # this is the size of the renders; higher values take longer to render.\n",
    "\n",
    "    cameras = create_pan_cameras(size, device)\n",
    "    image = decode_latent_images(xm, latents, cameras, rendering_mode=render_mode)\n",
    "    display(gif_widget(image))"
   ],
   "id": "3d4616ec5b0ebe0a",
   "outputs": [
    {
     "name": "stdout",
     "output_type": "stream",
     "text": [
      "Dining Table\n"
     ]
    },
    {
     "data": {
      "text/plain": [
       "  0%|          | 0/64 [00:00<?, ?it/s]"
      ],
      "application/vnd.jupyter.widget-view+json": {
       "version_major": 2,
       "version_minor": 0,
       "model_id": "4c8310b445ce46219595706c3e8c6a39"
      }
     },
     "metadata": {},
     "output_type": "display_data"
    },
    {
     "data": {
      "text/plain": [
       "HTML(value='<img src=\"data:image/gif;base64,R0lGODlhQABAAIYAADEeEC8fDTEdEDEdDzAdEDAdDzEcDzAcDzAcDi8cDy8cDi4cDy…"
      ],
      "application/vnd.jupyter.widget-view+json": {
       "version_major": 2,
       "version_minor": 0,
       "model_id": "7c91084d8e61473ab9b8d337859fae42"
      }
     },
     "metadata": {},
     "output_type": "display_data"
    },
    {
     "name": "stdout",
     "output_type": "stream",
     "text": [
      "Chair\n"
     ]
    },
    {
     "data": {
      "text/plain": [
       "  0%|          | 0/64 [00:00<?, ?it/s]"
      ],
      "application/vnd.jupyter.widget-view+json": {
       "version_major": 2,
       "version_minor": 0,
       "model_id": "7428193407b74fadaf71fc2e7c5cbaf8"
      }
     },
     "metadata": {},
     "output_type": "display_data"
    },
    {
     "data": {
      "text/plain": [
       "HTML(value='<img src=\"data:image/gif;base64,R0lGODlhQABAAIcAAGE8AF47AF46AF06AF05AFw5AFw4AVw4AFs4AVs4AFo4AVs3AV…"
      ],
      "application/vnd.jupyter.widget-view+json": {
       "version_major": 2,
       "version_minor": 0,
       "model_id": "cec45b2ec13c4f3f964f7d6ab3c42a64"
      }
     },
     "metadata": {},
     "output_type": "display_data"
    },
    {
     "name": "stdout",
     "output_type": "stream",
     "text": [
      "Chair\n"
     ]
    },
    {
     "data": {
      "text/plain": [
       "  0%|          | 0/64 [00:00<?, ?it/s]"
      ],
      "application/vnd.jupyter.widget-view+json": {
       "version_major": 2,
       "version_minor": 0,
       "model_id": "5bfaf12c842a4436bec6b5048dccd875"
      }
     },
     "metadata": {},
     "output_type": "display_data"
    },
    {
     "data": {
      "text/plain": [
       "HTML(value='<img src=\"data:image/gif;base64,R0lGODlhQABAAIYAAFU8AVU8AFQ7AVQ7AFM7AFI7AFM6AVM6AFI6AFM5AFI5AVI5AF…"
      ],
      "application/vnd.jupyter.widget-view+json": {
       "version_major": 2,
       "version_minor": 0,
       "model_id": "3acea8897df042a7ace2588795cf4a8b"
      }
     },
     "metadata": {},
     "output_type": "display_data"
    },
    {
     "name": "stdout",
     "output_type": "stream",
     "text": [
      "Chair\n"
     ]
    },
    {
     "data": {
      "text/plain": [
       "  0%|          | 0/64 [00:00<?, ?it/s]"
      ],
      "application/vnd.jupyter.widget-view+json": {
       "version_major": 2,
       "version_minor": 0,
       "model_id": "573ff5c50f2b47638824898b4b4299cb"
      }
     },
     "metadata": {},
     "output_type": "display_data"
    },
    {
     "data": {
      "text/plain": [
       "HTML(value='<img src=\"data:image/gif;base64,R0lGODlhQABAAIcAAEQnD0MnET4pF0MmEUImEEMmDkMmDUEmED8mEEIlDUElDkIlDE…"
      ],
      "application/vnd.jupyter.widget-view+json": {
       "version_major": 2,
       "version_minor": 0,
       "model_id": "aab45a99d7c74010987f2faecbc84963"
      }
     },
     "metadata": {},
     "output_type": "display_data"
    },
    {
     "name": "stdout",
     "output_type": "stream",
     "text": [
      "Chair\n"
     ]
    },
    {
     "data": {
      "text/plain": [
       "  0%|          | 0/64 [00:00<?, ?it/s]"
      ],
      "application/vnd.jupyter.widget-view+json": {
       "version_major": 2,
       "version_minor": 0,
       "model_id": "6de86a3a7da24b15a0829fab8e9ab820"
      }
     },
     "metadata": {},
     "output_type": "display_data"
    },
    {
     "data": {
      "text/plain": [
       "HTML(value='<img src=\"data:image/gif;base64,R0lGODlhQABAAIcAAFY3H1Q2H1M2H1M1H1M1HVI1H1I0HVE0HlE0HFEzHFA0HlAzHV…"
      ],
      "application/vnd.jupyter.widget-view+json": {
       "version_major": 2,
       "version_minor": 0,
       "model_id": "4772a69628094ae4a470a7f826750341"
      }
     },
     "metadata": {},
     "output_type": "display_data"
    },
    {
     "name": "stdout",
     "output_type": "stream",
     "text": [
      "Dining Table\n"
     ]
    },
    {
     "data": {
      "text/plain": [
       "  0%|          | 0/64 [00:00<?, ?it/s]"
      ],
      "application/vnd.jupyter.widget-view+json": {
       "version_major": 2,
       "version_minor": 0,
       "model_id": "9b3547d8afb642a799c1c7e554c49f54"
      }
     },
     "metadata": {},
     "output_type": "display_data"
    },
    {
     "data": {
      "text/plain": [
       "HTML(value='<img src=\"data:image/gif;base64,R0lGODlhQABAAIYAAFE5BlA5B1A5BlA4B1A4Bk84Bk84BU83Bk83BU43B043Bk43BU…"
      ],
      "application/vnd.jupyter.widget-view+json": {
       "version_major": 2,
       "version_minor": 0,
       "model_id": "6e08e2e8d77d4645ab57ab123bf82d65"
      }
     },
     "metadata": {},
     "output_type": "display_data"
    },
    {
     "name": "stdout",
     "output_type": "stream",
     "text": [
      "Chair\n"
     ]
    },
    {
     "data": {
      "text/plain": [
       "  0%|          | 0/64 [00:00<?, ?it/s]"
      ],
      "application/vnd.jupyter.widget-view+json": {
       "version_major": 2,
       "version_minor": 0,
       "model_id": "83e03b2a74ca4590bcf57c7e63c0c09a"
      }
     },
     "metadata": {},
     "output_type": "display_data"
    },
    {
     "data": {
      "text/plain": [
       "HTML(value='<img src=\"data:image/gif;base64,R0lGODlhQABAAIcAALK1sbK0sLGzsrCzr7GysrGysbGysLCysa+yrq+yrbCxsK+xra…"
      ],
      "application/vnd.jupyter.widget-view+json": {
       "version_major": 2,
       "version_minor": 0,
       "model_id": "53a05986b99e45c5822f4fdf974adf53"
      }
     },
     "metadata": {},
     "output_type": "display_data"
    },
    {
     "name": "stdout",
     "output_type": "stream",
     "text": [
      "Chair\n"
     ]
    },
    {
     "data": {
      "text/plain": [
       "  0%|          | 0/64 [00:00<?, ?it/s]"
      ],
      "application/vnd.jupyter.widget-view+json": {
       "version_major": 2,
       "version_minor": 0,
       "model_id": "d43ae691493b4876847087fe4778f754"
      }
     },
     "metadata": {},
     "output_type": "display_data"
    },
    {
     "data": {
      "text/plain": [
       "HTML(value='<img src=\"data:image/gif;base64,R0lGODlhQABAAIcAAGpeT2leT2ldT2hdT2lcT2lcTmhcT2hcTmdcT2dcTmhbTmdbT2…"
      ],
      "application/vnd.jupyter.widget-view+json": {
       "version_major": 2,
       "version_minor": 0,
       "model_id": "be68cd4b8011475fbe29d5011297c0ed"
      }
     },
     "metadata": {},
     "output_type": "display_data"
    },
    {
     "name": "stdout",
     "output_type": "stream",
     "text": [
      "Chair\n"
     ]
    },
    {
     "data": {
      "text/plain": [
       "  0%|          | 0/64 [00:00<?, ?it/s]"
      ],
      "application/vnd.jupyter.widget-view+json": {
       "version_major": 2,
       "version_minor": 0,
       "model_id": "c9b86ed675754e71a0b92c5a96e56ede"
      }
     },
     "metadata": {},
     "output_type": "display_data"
    },
    {
     "data": {
      "text/plain": [
       "HTML(value='<img src=\"data:image/gif;base64,R0lGODlhQABAAIcAAFM2BlM2BVI2BlI1BlI1BVE1BlE1BVM2AlM2AVI2AlI2AVI1Al…"
      ],
      "application/vnd.jupyter.widget-view+json": {
       "version_major": 2,
       "version_minor": 0,
       "model_id": "e13c340e84184ec7ad90dca8b44ee64b"
      }
     },
     "metadata": {},
     "output_type": "display_data"
    },
    {
     "name": "stdout",
     "output_type": "stream",
     "text": [
      "Chair\n"
     ]
    },
    {
     "data": {
      "text/plain": [
       "  0%|          | 0/64 [00:00<?, ?it/s]"
      ],
      "application/vnd.jupyter.widget-view+json": {
       "version_major": 2,
       "version_minor": 0,
       "model_id": "7512217c5bd44e938c578e981a09a8ec"
      }
     },
     "metadata": {},
     "output_type": "display_data"
    },
    {
     "data": {
      "text/plain": [
       "HTML(value='<img src=\"data:image/gif;base64,R0lGODlhQABAAIcAAO3u7uzu7+vq6+vq6urq6unq6+rp6unp6unp6ejp6efp6uno6e…"
      ],
      "application/vnd.jupyter.widget-view+json": {
       "version_major": 2,
       "version_minor": 0,
       "model_id": "9e23af8cefc34191822e8d79ac0d9576"
      }
     },
     "metadata": {},
     "output_type": "display_data"
    },
    {
     "name": "stdout",
     "output_type": "stream",
     "text": [
      "Door\n"
     ]
    },
    {
     "data": {
      "text/plain": [
       "  0%|          | 0/64 [00:00<?, ?it/s]"
      ],
      "application/vnd.jupyter.widget-view+json": {
       "version_major": 2,
       "version_minor": 0,
       "model_id": "605a416d56e54dba8140ef3b1b7415a6"
      }
     },
     "metadata": {},
     "output_type": "display_data"
    },
    {
     "data": {
      "text/plain": [
       "HTML(value='<img src=\"data:image/gif;base64,R0lGODlhQABAAIYAAFM4KlI4KlE3K1E3KlA3LlA3LVE2K1A2LFA2K1A2KlA2KU83LU…"
      ],
      "application/vnd.jupyter.widget-view+json": {
       "version_major": 2,
       "version_minor": 0,
       "model_id": "77ecbea070b644aeabe2cb504951d160"
      }
     },
     "metadata": {},
     "output_type": "display_data"
    },
    {
     "name": "stdout",
     "output_type": "stream",
     "text": [
      "Door\n"
     ]
    },
    {
     "data": {
      "text/plain": [
       "  0%|          | 0/64 [00:00<?, ?it/s]"
      ],
      "application/vnd.jupyter.widget-view+json": {
       "version_major": 2,
       "version_minor": 0,
       "model_id": "b95098955a4d489fb236687fe1bf1ce3"
      }
     },
     "metadata": {},
     "output_type": "display_data"
    },
    {
     "data": {
      "text/plain": [
       "HTML(value='<img src=\"data:image/gif;base64,R0lGODlhQABAAIYAAEYyIEYyH0YyHkYxIEYxH0UxH0YxHkUxHkUxHUQxHkUwH0UwHk…"
      ],
      "application/vnd.jupyter.widget-view+json": {
       "version_major": 2,
       "version_minor": 0,
       "model_id": "1f349ad9c06847d2ba6b0f4439ea7de5"
      }
     },
     "metadata": {},
     "output_type": "display_data"
    },
    {
     "name": "stdout",
     "output_type": "stream",
     "text": [
      "Counter\n"
     ]
    },
    {
     "data": {
      "text/plain": [
       "  0%|          | 0/64 [00:00<?, ?it/s]"
      ],
      "application/vnd.jupyter.widget-view+json": {
       "version_major": 2,
       "version_minor": 0,
       "model_id": "4b3529cb95794efe90d2337232e115bb"
      }
     },
     "metadata": {},
     "output_type": "display_data"
    },
    {
     "data": {
      "text/plain": [
       "HTML(value='<img src=\"data:image/gif;base64,R0lGODlhQABAAIcAAJ2mq52mqpymq5ymqp2lq5ylq5ylqpulq5ulqpykq5ykqpukq5…"
      ],
      "application/vnd.jupyter.widget-view+json": {
       "version_major": 2,
       "version_minor": 0,
       "model_id": "0e312e54fe16438e8a37b4da99b81b2c"
      }
     },
     "metadata": {},
     "output_type": "display_data"
    },
    {
     "name": "stdout",
     "output_type": "stream",
     "text": [
      "Window\n"
     ]
    },
    {
     "data": {
      "text/plain": [
       "  0%|          | 0/64 [00:00<?, ?it/s]"
      ],
      "application/vnd.jupyter.widget-view+json": {
       "version_major": 2,
       "version_minor": 0,
       "model_id": "10dd594b45314ec99c7bbb1e0b8fcb41"
      }
     },
     "metadata": {},
     "output_type": "display_data"
    },
    {
     "data": {
      "text/plain": [
       "HTML(value='<img src=\"data:image/gif;base64,R0lGODlhQABAAIcAAJ+ipZ6ipZqcoJmcoZmcoJmcnpicopiboJaboZianZeanpeanZ…"
      ],
      "application/vnd.jupyter.widget-view+json": {
       "version_major": 2,
       "version_minor": 0,
       "model_id": "1ef5604d9d04459d8c92cf0003e8307b"
      }
     },
     "metadata": {},
     "output_type": "display_data"
    },
    {
     "name": "stdout",
     "output_type": "stream",
     "text": [
      "Plant\n"
     ]
    },
    {
     "data": {
      "text/plain": [
       "  0%|          | 0/64 [00:00<?, ?it/s]"
      ],
      "application/vnd.jupyter.widget-view+json": {
       "version_major": 2,
       "version_minor": 0,
       "model_id": "bae994f7c96645a59f9f1a7e0510d9a8"
      }
     },
     "metadata": {},
     "output_type": "display_data"
    },
    {
     "data": {
      "text/plain": [
       "HTML(value='<img src=\"data:image/gif;base64,R0lGODlhQABAAIcAAEttLUtpK0VsJEJpJURnJ0FnJEBnIVFjLUdlJ0VlJ0JkI0BgJD…"
      ],
      "application/vnd.jupyter.widget-view+json": {
       "version_major": 2,
       "version_minor": 0,
       "model_id": "bd531d248a7648b8bf1e7f569192eb9b"
      }
     },
     "metadata": {},
     "output_type": "display_data"
    },
    {
     "name": "stdout",
     "output_type": "stream",
     "text": [
      "Plant\n"
     ]
    },
    {
     "data": {
      "text/plain": [
       "  0%|          | 0/64 [00:00<?, ?it/s]"
      ],
      "application/vnd.jupyter.widget-view+json": {
       "version_major": 2,
       "version_minor": 0,
       "model_id": "b61a7e924c38413fab75d8a64b12dfad"
      }
     },
     "metadata": {},
     "output_type": "display_data"
    },
    {
     "data": {
      "text/plain": [
       "HTML(value='<img src=\"data:image/gif;base64,R0lGODlhQABAAIcAAE14LU90JUt1KU9zIk5yIUtyKUlyH01wIEpwIkhwIUhwHUdwH0…"
      ],
      "application/vnd.jupyter.widget-view+json": {
       "version_major": 2,
       "version_minor": 0,
       "model_id": "7de16f6bbf28495d97b34cfac7ba452e"
      }
     },
     "metadata": {},
     "output_type": "display_data"
    },
    {
     "name": "stdout",
     "output_type": "stream",
     "text": [
      "Reception Desk\n"
     ]
    },
    {
     "data": {
      "text/plain": [
       "  0%|          | 0/64 [00:00<?, ?it/s]"
      ],
      "application/vnd.jupyter.widget-view+json": {
       "version_major": 2,
       "version_minor": 0,
       "model_id": "dba79461ef1847608e18fcdea09676a6"
      }
     },
     "metadata": {},
     "output_type": "display_data"
    },
    {
     "data": {
      "text/plain": [
       "HTML(value='<img src=\"data:image/gif;base64,R0lGODlhQABAAIcAANa5n9S4n9a3m9e2l9m1l9m1ldi1lti1lde1l9e1lta1l9a1lt…"
      ],
      "application/vnd.jupyter.widget-view+json": {
       "version_major": 2,
       "version_minor": 0,
       "model_id": "420b1890d1334642bd67bba3f9177ba8"
      }
     },
     "metadata": {},
     "output_type": "display_data"
    },
    {
     "name": "stdout",
     "output_type": "stream",
     "text": [
      "Chair\n"
     ]
    },
    {
     "data": {
      "text/plain": [
       "  0%|          | 0/64 [00:00<?, ?it/s]"
      ],
      "application/vnd.jupyter.widget-view+json": {
       "version_major": 2,
       "version_minor": 0,
       "model_id": "6da94e675cbb480cba35713effbb4cb2"
      }
     },
     "metadata": {},
     "output_type": "display_data"
    },
    {
     "data": {
      "text/plain": [
       "HTML(value='<img src=\"data:image/gif;base64,R0lGODlhQABAAIcAAFM5AFI5AFE5AFE4AFA4AFE3AFA3AE44AE83AE43AFA2AE82AE…"
      ],
      "application/vnd.jupyter.widget-view+json": {
       "version_major": 2,
       "version_minor": 0,
       "model_id": "96df276e5e9b45c38eb83151ac695d66"
      }
     },
     "metadata": {},
     "output_type": "display_data"
    },
    {
     "name": "stdout",
     "output_type": "stream",
     "text": [
      "Exit Sign\n"
     ]
    },
    {
     "data": {
      "text/plain": [
       "  0%|          | 0/64 [00:00<?, ?it/s]"
      ],
      "application/vnd.jupyter.widget-view+json": {
       "version_major": 2,
       "version_minor": 0,
       "model_id": "30e0183b9ee848e78d47c0734781b35b"
      }
     },
     "metadata": {},
     "output_type": "display_data"
    },
    {
     "data": {
      "text/plain": [
       "HTML(value='<img src=\"data:image/gif;base64,R0lGODlhQABAAIYAAJiZmZiZmJeZmZeZmJiYmJeYmJeXmJeXl5eWmJaWmJaWl5SUlp…"
      ],
      "application/vnd.jupyter.widget-view+json": {
       "version_major": 2,
       "version_minor": 0,
       "model_id": "76ef272813394928ab54e985ea6e2c78"
      }
     },
     "metadata": {},
     "output_type": "display_data"
    },
    {
     "name": "stdout",
     "output_type": "stream",
     "text": [
      "Fire Extinguisher\n"
     ]
    },
    {
     "data": {
      "text/plain": [
       "  0%|          | 0/64 [00:00<?, ?it/s]"
      ],
      "application/vnd.jupyter.widget-view+json": {
       "version_major": 2,
       "version_minor": 0,
       "model_id": "7c3f5fbe68654fdb89b85ed16801671d"
      }
     },
     "metadata": {},
     "output_type": "display_data"
    },
    {
     "data": {
      "text/plain": [
       "HTML(value='<img src=\"data:image/gif;base64,R0lGODlhQABAAIcAALy8tLq4sba1q7GvpaqonbCknKikmLKdlqmdka+UjKWVjJiSja…"
      ],
      "application/vnd.jupyter.widget-view+json": {
       "version_major": 2,
       "version_minor": 0,
       "model_id": "c240fe5406424d66a7770493d48cc5c6"
      }
     },
     "metadata": {},
     "output_type": "display_data"
    }
   ],
   "execution_count": 7
  },
  {
   "metadata": {
    "ExecuteTime": {
     "end_time": "2025-05-08T14:37:20.219246Z",
     "start_time": "2025-05-08T14:37:20.212842Z"
    }
   },
   "cell_type": "code",
   "source": [
    "print(\"python version:\",sys.version)\n",
    "print(\"Torch version:\", torch.__version__)\n",
    "print(\"CUDA available:\", torch.cuda.is_available())\n",
    "print(\"CUDA version:\", torch.version.cuda)"
   ],
   "id": "746e11cfba3f732c",
   "outputs": [
    {
     "name": "stdout",
     "output_type": "stream",
     "text": [
      "python version: 3.10.12 (main, Feb  4 2025, 14:57:36) [GCC 11.4.0]\n",
      "Torch version: 2.0.1+cu117\n",
      "CUDA available: True\n",
      "CUDA version: 11.7\n"
     ]
    }
   ],
   "execution_count": 11
  },
  {
   "metadata": {
    "ExecuteTime": {
     "end_time": "2025-05-08T14:54:31.442399Z",
     "start_time": "2025-05-08T14:54:31.428179Z"
    }
   },
   "cell_type": "code",
   "source": [
    "import os\n",
    "import sys\n",
    "import torch\n",
    "\n",
    "need_pytorch3d = False\n",
    "try:\n",
    "    import pytorch3d\n",
    "except ModuleNotFoundError:\n",
    "    need_pytorch3d = True\n",
    "\n",
    "if need_pytorch3d:\n",
    "    # PyTorch 2.0.1 + cu117 + Python 3.10\n",
    "    version_str = \"py310_cu117_pyt201\"  # Python 3.10, CUDA 11.7, PyTorch 2.0.1\n",
    "\n",
    "    # 필수 의존성 설치\n",
    "    !pip install -U fvcore iopath\n",
    "\n",
    "    # PyTorch3D wheel 설치\n",
    "    !pip install --no-index --no-cache-dir pytorch3d -f https://dl.fbaipublicfiles.com/pytorch3d/packaging/wheels/{version_str}/download.html\n"
   ],
   "id": "27e5a79c54a4aaf4",
   "outputs": [],
   "execution_count": 15
  },
  {
   "metadata": {
    "ExecuteTime": {
     "end_time": "2025-05-08T14:55:22.465555Z",
     "start_time": "2025-05-08T14:54:37.214575Z"
    }
   },
   "cell_type": "code",
   "source": [
    "batch_size = 1\n",
    "guidance_scale = 15.0\n",
    "prompt = \"a shark\"\n",
    "\n",
    "latent = sample_latents(\n",
    "    batch_size=batch_size,\n",
    "    model=shap_e_model,\n",
    "    diffusion=diffusion,\n",
    "    guidance_scale=guidance_scale,\n",
    "    model_kwargs=dict(texts=[prompt] * batch_size),\n",
    "    progress=True,\n",
    "    clip_denoised=True,\n",
    "    use_fp16=True,\n",
    "    use_karras=True,\n",
    "    karras_steps=64,\n",
    "    sigma_min=1e-3,\n",
    "    sigma_max=160,\n",
    "    s_churn=0,\n",
    ")\n",
    "for i, latent in enumerate(latent):\n",
    "    t = decode_latent_mesh(xm, latent).tri_mesh()\n",
    "    with open(f'example_mesh_{i}.ply', 'wb') as f:\n",
    "        t.write_ply(f)\n",
    "    with open(f'example_mesh_{i}.obj', 'w') as f:\n",
    "        t.write_obj(f)"
   ],
   "id": "ae0e3ccd66e4f83",
   "outputs": [
    {
     "data": {
      "text/plain": [
       "  0%|          | 0/64 [00:00<?, ?it/s]"
      ],
      "application/vnd.jupyter.widget-view+json": {
       "version_major": 2,
       "version_minor": 0,
       "model_id": "da4e732c3b17438da2859cc4940f2b12"
      }
     },
     "metadata": {},
     "output_type": "display_data"
    }
   ],
   "execution_count": 16
  },
  {
   "metadata": {
    "ExecuteTime": {
     "end_time": "2025-05-08T15:17:11.891628Z",
     "start_time": "2025-05-08T15:17:11.591116Z"
    }
   },
   "cell_type": "code",
   "source": [
    "import os\n",
    "print(os.getcwd())\n",
    "!ls"
   ],
   "id": "6ebd28dd2badc1d6",
   "outputs": [
    {
     "name": "stdout",
     "output_type": "stream",
     "text": [
      "/tmp/pycharm_project_331/hongdyu/renders\n",
      "243_25659_43-pycharm-support-libs  hongdyu_gpt.py  shap-e.ipynb\r\n",
      "example_mesh_0.obj\t\t   pytorch3d\t   shap.py\r\n",
      "example_mesh_0.ply\t\t   render_0.gif    shap_e_model_cache\r\n"
     ]
    }
   ],
   "execution_count": 20
  }
 ],
 "metadata": {
  "kernelspec": {
   "display_name": "Python 3",
   "language": "python",
   "name": "python3"
  },
  "language_info": {
   "codemirror_mode": {
    "name": "ipython",
    "version": 2
   },
   "file_extension": ".py",
   "mimetype": "text/x-python",
   "name": "python",
   "nbconvert_exporter": "python",
   "pygments_lexer": "ipython2",
   "version": "2.7.6"
  }
 },
 "nbformat": 4,
 "nbformat_minor": 5
}
