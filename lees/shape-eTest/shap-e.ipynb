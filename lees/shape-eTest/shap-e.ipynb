{
 "cells": [
  {
   "cell_type": "code",
   "id": "initial_id",
   "metadata": {
    "collapsed": true,
    "ExecuteTime": {
     "end_time": "2025-04-13T11:58:27.783928Z",
     "start_time": "2025-04-13T11:58:17.450773Z"
    }
   },
   "source": [
    "import torch\n",
    "\n",
    "from shap_e.diffusion.sample import sample_latents\n",
    "from shap_e.diffusion.gaussian_diffusion import diffusion_from_config\n",
    "from shap_e.models.download import load_model, load_config\n",
    "from shap_e.util.notebooks import create_pan_cameras, decode_latent_images, gif_widget\n",
    "from shap_e.util.notebooks import decode_latent_mesh"
   ],
   "outputs": [],
   "execution_count": 1
  },
  {
   "metadata": {},
   "cell_type": "code",
   "outputs": [],
   "execution_count": null,
   "source": "device = torch.device('cuda' if torch.cuda.is_available() else 'cpu')",
   "id": "c880eb682286a09b"
  },
  {
   "metadata": {},
   "cell_type": "code",
   "outputs": [],
   "execution_count": null,
   "source": [
    "xm = load_model('transmitter', device=device)\n",
    "shap_e_model = load_model('text300M', device=device)\n",
    "diffusion = diffusion_from_config(load_config('diffusion'))"
   ],
   "id": "24e9b109e0019d2"
  },
  {
   "metadata": {},
   "cell_type": "code",
   "outputs": [],
   "execution_count": null,
   "source": "from test import name,object_names",
   "id": "b049fa495a606d03"
  },
  {
   "metadata": {},
   "cell_type": "code",
   "outputs": [],
   "execution_count": null,
   "source": [
    "for i in range(len(object_names)):\n",
    "    name = object_names[i]\n",
    "    print(name)\n",
    "    batch_size = 1\n",
    "    guidance_scale = 15.0\n",
    "    promptt = object_names[i]\n",
    "    latents = sample_latents(\n",
    "      batch_size=batch_size,\n",
    "      model=shap_e_model,\n",
    "      diffusion=diffusion,\n",
    "      guidance_scale=guidance_scale,\n",
    "      model_kwargs=dict(texts=[promptt] * batch_size),\n",
    "      progress=True,\n",
    "      clip_denoised=True,\n",
    "      use_fp16=True,\n",
    "      use_karras=True,\n",
    "      karras_steps=64,\n",
    "      sigma_min=1e-3,\n",
    "      sigma_max=160,\n",
    "      s_churn=0,\n",
    "    )\n",
    "    render_mode = 'nerf' # you can change this to 'stf'\n",
    "    size = 64 # this is the size of the renders; higher values take longer to render.\n",
    "\n",
    "    cameras = create_pan_cameras(size, device)\n",
    "    image = decode_latent_images(xm, latents, cameras, rendering_mode=render_mode)\n",
    "    display(gif_widget(image))"
   ],
   "id": "3d4616ec5b0ebe0a"
  }
 ],
 "metadata": {
  "kernelspec": {
   "display_name": "Python 3",
   "language": "python",
   "name": "python3"
  },
  "language_info": {
   "codemirror_mode": {
    "name": "ipython",
    "version": 2
   },
   "file_extension": ".py",
   "mimetype": "text/x-python",
   "name": "python",
   "nbconvert_exporter": "python",
   "pygments_lexer": "ipython2",
   "version": "2.7.6"
  }
 },
 "nbformat": 4,
 "nbformat_minor": 5
}
